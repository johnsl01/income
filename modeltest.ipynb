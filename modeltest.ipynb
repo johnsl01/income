{
  "nbformat": 4,
  "nbformat_minor": 0,
  "metadata": {
    "colab": {
      "name": "modeltest.ipynb",
      "provenance": [],
      "include_colab_link": true
    },
    "kernelspec": {
      "name": "python3",
      "display_name": "Python 3"
    }
  },
  "cells": [
    {
      "cell_type": "markdown",
      "metadata": {
        "id": "view-in-github",
        "colab_type": "text"
      },
      "source": [
        "<a href=\"https://colab.research.google.com/github/johnsl01/income/blob/master/modeltest.ipynb\" target=\"_parent\"><img src=\"https://colab.research.google.com/assets/colab-badge.svg\" alt=\"Open In Colab\"/></a>"
      ]
    },
    {
      "cell_type": "markdown",
      "metadata": {
        "id": "GRtsJx2XmBht",
        "colab_type": "text"
      },
      "source": [
        "https://towardsdatascience.com/a-beginners-guide-to-linear-regression-in-python-with-scikit-learn-83a8f7ae2b4f"
      ]
    },
    {
      "cell_type": "code",
      "metadata": {
        "id": "v4oGEzkf3Xiz",
        "colab_type": "code",
        "colab": {}
      },
      "source": [
        "###############################################\n",
        "#@title                 Imports               #\n",
        "###############################################\n",
        "\n",
        "# model test \n",
        "# this is a simple example of how to use sklearn models\n",
        "# need to start with a training set of data \n",
        "# and a test set of data \n",
        "print (\"Imports\")\n",
        "\n",
        "import numpy as np\n",
        "import pandas as pd\n",
        "# import sklearn\n",
        "import matplotlib.pyplot as plt\n",
        "from mpl_toolkits.mplot3d import Axes3D\n",
        "\n",
        "import seaborn as seabornInstance \n",
        "\n",
        "from sklearn.model_selection import train_test_split \n",
        "from sklearn.linear_model import LinearRegression\n",
        "from sklearn import metrics\n",
        "\n",
        "from google.colab import files\n",
        "\n",
        "from datetime import datetime\n",
        "print (datetime.now())"
      ],
      "execution_count": 0,
      "outputs": []
    },
    {
      "cell_type": "code",
      "metadata": {
        "id": "ZMrEhaBkQe5E",
        "colab_type": "code",
        "colab": {}
      },
      "source": [
        ""
      ],
      "execution_count": 0,
      "outputs": []
    },
    {
      "cell_type": "code",
      "metadata": {
        "id": "43s-fXZzQfOm",
        "colab_type": "code",
        "colab": {}
      },
      "source": [
        ""
      ],
      "execution_count": 0,
      "outputs": []
    },
    {
      "cell_type": "code",
      "metadata": {
        "id": "xHQMn2ZuC8zK",
        "colab_type": "code",
        "colab": {}
      },
      "source": [
        "###############################################\n",
        "#@title               Data loads              #\n",
        "###############################################\n",
        "print (\"Data loads\")\n",
        "sourcedata = \"https://raw.githubusercontent.com/johnsl01/income/master/Toy_data_known.csv\"\n",
        "Known = pd.read_csv(sourcedata, sep=\",\")\n",
        "\n",
        "sourcedata = \"https://raw.githubusercontent.com/johnsl01/income/master/Toy_data_unknown.csv\"\n",
        "Unknown = pd.read_csv(sourcedata, sep=\",\")\n",
        "\n",
        "print (datetime.now())"
      ],
      "execution_count": 0,
      "outputs": []
    },
    {
      "cell_type": "code",
      "metadata": {
        "id": "auR-I2uxEPvW",
        "colab_type": "code",
        "colab": {}
      },
      "source": [
        "Known[[\"Instance\",\"Diameter\",\"Colour\", \"Weight\"]].describe()"
      ],
      "execution_count": 0,
      "outputs": []
    },
    {
      "cell_type": "code",
      "metadata": {
        "id": "EI7YW1E2D-hO",
        "colab_type": "code",
        "colab": {}
      },
      "source": [
        "Known[[\"Colour\"]].describe()"
      ],
      "execution_count": 0,
      "outputs": []
    },
    {
      "cell_type": "code",
      "metadata": {
        "id": "5EAmUyXsDYx4",
        "colab_type": "code",
        "colab": {}
      },
      "source": [
        "print (Known.head(10))"
      ],
      "execution_count": 0,
      "outputs": []
    },
    {
      "cell_type": "code",
      "metadata": {
        "id": "0CbwbvCCEkQ1",
        "colab_type": "code",
        "colab": {}
      },
      "source": [
        "Unknown[[\"Instance\",\"Diameter\",\"Colour\", \"Weight\"]].describe()"
      ],
      "execution_count": 0,
      "outputs": []
    },
    {
      "cell_type": "code",
      "metadata": {
        "id": "JYBRGifWEkIU",
        "colab_type": "code",
        "colab": {}
      },
      "source": [
        "Unknown[[\"Colour\"]].describe()"
      ],
      "execution_count": 0,
      "outputs": []
    },
    {
      "cell_type": "code",
      "metadata": {
        "id": "CXe9pMJSEj8d",
        "colab_type": "code",
        "colab": {}
      },
      "source": [
        "print (Unknown.head(10))"
      ],
      "execution_count": 0,
      "outputs": []
    },
    {
      "cell_type": "code",
      "metadata": {
        "id": "6YBBmXwkGmNB",
        "colab_type": "code",
        "colab": {}
      },
      "source": [
        "Known.plot(x='Diameter', y='Weight', style='o')  \n",
        "plt.title('Diameter vs Weight')  \n",
        "plt.xlabel('Diameter')  \n",
        "plt.ylabel('Weight')  \n",
        "plt.show()"
      ],
      "execution_count": 0,
      "outputs": []
    },
    {
      "cell_type": "code",
      "metadata": {
        "id": "bKd9SFKLG7y8",
        "colab_type": "code",
        "colab": {}
      },
      "source": [
        "plt.figure(figsize=(15,10))\n",
        "plt.tight_layout()\n",
        "seabornInstance.distplot(Known['Weight'])"
      ],
      "execution_count": 0,
      "outputs": []
    },
    {
      "cell_type": "code",
      "metadata": {
        "id": "C4jRlldAHURn",
        "colab_type": "code",
        "colab": {}
      },
      "source": [
        "X = Known['Diameter'].values.reshape(-1,1)\n",
        "y = Known['Weight'].values.reshape(-1,1)"
      ],
      "execution_count": 0,
      "outputs": []
    },
    {
      "cell_type": "code",
      "metadata": {
        "id": "dAMOw7krlNEP",
        "colab_type": "code",
        "colab": {}
      },
      "source": [
        "X"
      ],
      "execution_count": 0,
      "outputs": []
    },
    {
      "cell_type": "code",
      "metadata": {
        "id": "ghTGkhvhHhIA",
        "colab_type": "code",
        "colab": {}
      },
      "source": [
        "y"
      ],
      "execution_count": 0,
      "outputs": []
    },
    {
      "cell_type": "code",
      "metadata": {
        "id": "gfWybhlBHvSP",
        "colab_type": "code",
        "colab": {}
      },
      "source": [
        "# X_train, X_test, y_train, y_test = train_test_split(X, y, test_size=0.5, random_state=0)\n",
        "X_train, X_test, y_train, y_test = train_test_split(X, y, test_size=0.4, random_state=5)"
      ],
      "execution_count": 0,
      "outputs": []
    },
    {
      "cell_type": "code",
      "metadata": {
        "id": "o8QXA6jGQYue",
        "colab_type": "code",
        "colab": {}
      },
      "source": [
        ""
      ],
      "execution_count": 0,
      "outputs": []
    },
    {
      "cell_type": "markdown",
      "metadata": {
        "id": "8kM5A0QCQab9",
        "colab_type": "text"
      },
      "source": [
        ""
      ]
    },
    {
      "cell_type": "code",
      "metadata": {
        "id": "D3EGyWIZQb-d",
        "colab_type": "code",
        "colab": {}
      },
      "source": [
        ""
      ],
      "execution_count": 0,
      "outputs": []
    },
    {
      "cell_type": "code",
      "metadata": {
        "id": "bQ0HsfdhE6Z9",
        "colab_type": "code",
        "colab": {}
      },
      "source": [
        "regressor = LinearRegression() \n",
        "regressor.fit(X_train, y_train) #training the algorithm\n",
        "\n"
      ],
      "execution_count": 0,
      "outputs": []
    },
    {
      "cell_type": "code",
      "metadata": {
        "id": "iYAuitXVIDJA",
        "colab_type": "code",
        "colab": {}
      },
      "source": [
        "#To retrieve the intercept:\n",
        "print(regressor.intercept_)\n",
        "#For retrieving the slope:\n",
        "print(regressor.coef_)"
      ],
      "execution_count": 0,
      "outputs": []
    },
    {
      "cell_type": "code",
      "metadata": {
        "id": "DN0EHOYaIcM3",
        "colab_type": "code",
        "colab": {}
      },
      "source": [
        "y_pred = regressor.predict(X_test)"
      ],
      "execution_count": 0,
      "outputs": []
    },
    {
      "cell_type": "code",
      "metadata": {
        "id": "3Mw00ZRUIh9d",
        "colab_type": "code",
        "colab": {}
      },
      "source": [
        "df = pd.DataFrame({'Actual': y_test.flatten(), 'Predicted': y_pred.flatten()})\n",
        "df"
      ],
      "execution_count": 0,
      "outputs": []
    },
    {
      "cell_type": "code",
      "metadata": {
        "id": "tsolT5ggI-O1",
        "colab_type": "code",
        "colab": {}
      },
      "source": [
        "df1 = df.head(25)\n",
        "df1.plot(kind='bar',figsize=(16,10))\n",
        "plt.grid(which='major', linestyle='-', linewidth='0.5', color='green')\n",
        "plt.grid(which='minor', linestyle=':', linewidth='0.5', color='black')\n",
        "plt.show()"
      ],
      "execution_count": 0,
      "outputs": []
    },
    {
      "cell_type": "code",
      "metadata": {
        "id": "m7tdtoQqJFtN",
        "colab_type": "code",
        "colab": {}
      },
      "source": [
        "plt.scatter(X_test, y_test,  color='red')\n",
        "plt.scatter(X_train, y_train,  color='green')\n",
        "plt.plot(X_test, y_pred, color='red', linewidth=2)\n",
        "plt.show()"
      ],
      "execution_count": 0,
      "outputs": []
    },
    {
      "cell_type": "code",
      "metadata": {
        "id": "ajK7OC5TdmY3",
        "colab_type": "code",
        "colab": {}
      },
      "source": [
        "print('Mean Absolute Error:', metrics.mean_absolute_error(y_test, y_pred))  \n",
        "print('Mean Squared Error:', metrics.mean_squared_error(y_test, y_pred))  \n",
        "print('Root Mean Squared Error:', np.sqrt(metrics.mean_squared_error(y_test, y_pred)))"
      ],
      "execution_count": 0,
      "outputs": []
    },
    {
      "cell_type": "code",
      "metadata": {
        "id": "_cmR-EAeMy2M",
        "colab_type": "code",
        "colab": {}
      },
      "source": [
        "# need to add a col for diameter squared\n",
        "\n",
        "# print (type(Known))\n",
        "\n",
        "dsqrd =Known.Diameter\n",
        "dsqrd = dsqrd**2\n",
        "# print(dsqrd)\n",
        "# print(type (dsqrd))\n",
        "# print(dsqrd.shape)\n",
        "Known['Dsqrd'] = dsqrd\n",
        "print (Known.head(10))"
      ],
      "execution_count": 0,
      "outputs": []
    },
    {
      "cell_type": "code",
      "metadata": {
        "id": "b_SCV_j1RGZL",
        "colab_type": "code",
        "colab": {}
      },
      "source": [
        "# add the colour hot-1 encoding\n",
        "\n",
        "red = np.zeros(10)\n",
        "blue = np.zeros(10)\n",
        "green = np.zeros(10)\n",
        "\n",
        "Known ['Red'] = red\n",
        "Known ['Green'] = green\n",
        "Known ['Blue'] = blue\n",
        "# print (Known.head(10))\n",
        "Known.loc [ Known.Colour == 'Red', 'Red' ] = 1\n",
        "Known.loc [ Known.Colour == 'Green', 'Green' ] = 1\n",
        "Known.loc [ Known.Colour == 'Blue', 'Blue' ] = 1\n",
        "print (Known.head(10))"
      ],
      "execution_count": 0,
      "outputs": []
    },
    {
      "cell_type": "code",
      "metadata": {
        "id": "_5Iggz6wfod0",
        "colab_type": "code",
        "colab": {}
      },
      "source": [
        "# Now pull out the data for training and testing\n",
        "X = Known[['Dsqrd', 'Red', 'Green', 'Blue', 'Diameter']].values\n",
        "y = Known['Weight'].values"
      ],
      "execution_count": 0,
      "outputs": []
    },
    {
      "cell_type": "code",
      "metadata": {
        "id": "RvqTBx-PlHux",
        "colab_type": "code",
        "colab": {}
      },
      "source": [
        "X"
      ],
      "execution_count": 0,
      "outputs": []
    },
    {
      "cell_type": "code",
      "metadata": {
        "id": "teuf4nw_lKlw",
        "colab_type": "code",
        "colab": {}
      },
      "source": [
        "y"
      ],
      "execution_count": 0,
      "outputs": []
    },
    {
      "cell_type": "code",
      "metadata": {
        "id": "WXLFdQeUKCai",
        "colab_type": "code",
        "colab": {}
      },
      "source": [
        ""
      ],
      "execution_count": 0,
      "outputs": []
    },
    {
      "cell_type": "code",
      "metadata": {
        "id": "Y92H9VEUlRG4",
        "colab_type": "code",
        "colab": {}
      },
      "source": [
        "# X_train, X_test, y_train, y_test = train_test_split(X, y, test_size=0.5, random_state=0)\n",
        "X_train, X_test, y_train, y_test = train_test_split(X, y, test_size=0.4, random_state=5)"
      ],
      "execution_count": 0,
      "outputs": []
    },
    {
      "cell_type": "code",
      "metadata": {
        "id": "-ZNQg7pOlUTX",
        "colab_type": "code",
        "colab": {}
      },
      "source": [
        "regressor = LinearRegression() \n",
        "regressor.fit(X_train, y_train) #training the algorithm"
      ],
      "execution_count": 0,
      "outputs": []
    },
    {
      "cell_type": "code",
      "metadata": {
        "id": "sGHIWApClbXv",
        "colab_type": "code",
        "colab": {}
      },
      "source": [
        "#To retrieve the intercept:\n",
        "print(regressor.intercept_)\n",
        "#For retrieving the slope:\n",
        "print(regressor.coef_)"
      ],
      "execution_count": 0,
      "outputs": []
    },
    {
      "cell_type": "code",
      "metadata": {
        "id": "Iom084aBl2Ku",
        "colab_type": "code",
        "colab": {}
      },
      "source": [
        "# coeff_df = pd.DataFrame(regressor.coef_, X.columns, columns=['Coefficient'])  \n",
        "# coeff_df"
      ],
      "execution_count": 0,
      "outputs": []
    },
    {
      "cell_type": "code",
      "metadata": {
        "id": "gP4z3ig4ljEX",
        "colab_type": "code",
        "colab": {}
      },
      "source": [
        "y_pred = regressor.predict(X_test)"
      ],
      "execution_count": 0,
      "outputs": []
    },
    {
      "cell_type": "code",
      "metadata": {
        "id": "ncdT-2R7lmx3",
        "colab_type": "code",
        "colab": {}
      },
      "source": [
        "df = pd.DataFrame({'Actual': y_test.flatten(), 'Predicted': y_pred.flatten()})\n",
        "df"
      ],
      "execution_count": 0,
      "outputs": []
    },
    {
      "cell_type": "code",
      "metadata": {
        "id": "BkbVb2SkOVlw",
        "colab_type": "code",
        "colab": {}
      },
      "source": [
        "df1 = df.head(25)\n",
        "df1.plot(kind='bar',figsize=(16,10))\n",
        "plt.grid(which='major', linestyle='-', linewidth='0.5', color='green')\n",
        "plt.grid(which='minor', linestyle=':', linewidth='0.5', color='black')\n",
        "plt.show()"
      ],
      "execution_count": 0,
      "outputs": []
    },
    {
      "cell_type": "code",
      "metadata": {
        "id": "WZ4ZmvW8Oa0N",
        "colab_type": "code",
        "colab": {}
      },
      "source": [
        "plt.scatter(X_test[:,0], y_test,  color='red')\n",
        "plt.scatter(X_train[:,0], y_train,  color='green')\n",
        "plt.plot(X_test[:,0], y_pred, color='red', linewidth=2)\n",
        "plt.show()"
      ],
      "execution_count": 0,
      "outputs": []
    },
    {
      "cell_type": "code",
      "metadata": {
        "id": "dzr42QOlO2op",
        "colab_type": "code",
        "colab": {}
      },
      "source": [
        "print('Mean Absolute Error:', metrics.mean_absolute_error(y_test, y_pred))  \n",
        "print('Mean Squared Error:', metrics.mean_squared_error(y_test, y_pred))  \n",
        "print('Root Mean Squared Error:', np.sqrt(metrics.mean_squared_error(y_test, y_pred)))"
      ],
      "execution_count": 0,
      "outputs": []
    }
  ]
}